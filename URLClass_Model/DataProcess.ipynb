{
 "cells": [
  {
   "cell_type": "code",
   "execution_count": 1,
   "id": "6d8606d4-85c9-4aa4-bfea-3b088f8f0988",
   "metadata": {},
   "outputs": [],
   "source": [
    "import pandas as pd"
   ]
  },
  {
   "cell_type": "code",
   "execution_count": 2,
   "id": "287ffdce-0e3d-4029-b115-41bc97fa1717",
   "metadata": {},
   "outputs": [],
   "source": [
    "df = pd.read_csv('urldata.csv', dtype=object)\n",
    "df = df.drop(['result', 'Unnamed: 0'], axis=1)"
   ]
  },
  {
   "cell_type": "code",
   "execution_count": 3,
   "id": "2ac10337-a595-450c-b890-85194542ea5d",
   "metadata": {},
   "outputs": [
    {
     "data": {
      "text/html": [
       "<div>\n",
       "<style scoped>\n",
       "    .dataframe tbody tr th:only-of-type {\n",
       "        vertical-align: middle;\n",
       "    }\n",
       "\n",
       "    .dataframe tbody tr th {\n",
       "        vertical-align: top;\n",
       "    }\n",
       "\n",
       "    .dataframe thead th {\n",
       "        text-align: right;\n",
       "    }\n",
       "</style>\n",
       "<table border=\"1\" class=\"dataframe\">\n",
       "  <thead>\n",
       "    <tr style=\"text-align: right;\">\n",
       "      <th></th>\n",
       "      <th>url</th>\n",
       "      <th>label</th>\n",
       "    </tr>\n",
       "  </thead>\n",
       "  <tbody>\n",
       "    <tr>\n",
       "      <th>0</th>\n",
       "      <td>https://www.google.com</td>\n",
       "      <td>benign</td>\n",
       "    </tr>\n",
       "    <tr>\n",
       "      <th>1</th>\n",
       "      <td>https://www.youtube.com</td>\n",
       "      <td>benign</td>\n",
       "    </tr>\n",
       "    <tr>\n",
       "      <th>2</th>\n",
       "      <td>https://www.facebook.com</td>\n",
       "      <td>benign</td>\n",
       "    </tr>\n",
       "    <tr>\n",
       "      <th>3</th>\n",
       "      <td>https://www.baidu.com</td>\n",
       "      <td>benign</td>\n",
       "    </tr>\n",
       "    <tr>\n",
       "      <th>4</th>\n",
       "      <td>https://www.wikipedia.org</td>\n",
       "      <td>benign</td>\n",
       "    </tr>\n",
       "    <tr>\n",
       "      <th>...</th>\n",
       "      <td>...</td>\n",
       "      <td>...</td>\n",
       "    </tr>\n",
       "    <tr>\n",
       "      <th>450171</th>\n",
       "      <td>http://ecct-it.com/docmmmnn/aptgd/index.php</td>\n",
       "      <td>malicious</td>\n",
       "    </tr>\n",
       "    <tr>\n",
       "      <th>450172</th>\n",
       "      <td>http://faboleena.com/js/infortis/jquery/plugin...</td>\n",
       "      <td>malicious</td>\n",
       "    </tr>\n",
       "    <tr>\n",
       "      <th>450173</th>\n",
       "      <td>http://faboleena.com/js/infortis/jquery/plugin...</td>\n",
       "      <td>malicious</td>\n",
       "    </tr>\n",
       "    <tr>\n",
       "      <th>450174</th>\n",
       "      <td>http://atualizapj.com/</td>\n",
       "      <td>malicious</td>\n",
       "    </tr>\n",
       "    <tr>\n",
       "      <th>450175</th>\n",
       "      <td>http://writeassociate.com/test/Portal/inicio/I...</td>\n",
       "      <td>malicious</td>\n",
       "    </tr>\n",
       "  </tbody>\n",
       "</table>\n",
       "<p>450176 rows × 2 columns</p>\n",
       "</div>"
      ],
      "text/plain": [
       "                                                      url      label\n",
       "0                                  https://www.google.com     benign\n",
       "1                                 https://www.youtube.com     benign\n",
       "2                                https://www.facebook.com     benign\n",
       "3                                   https://www.baidu.com     benign\n",
       "4                               https://www.wikipedia.org     benign\n",
       "...                                                   ...        ...\n",
       "450171        http://ecct-it.com/docmmmnn/aptgd/index.php  malicious\n",
       "450172  http://faboleena.com/js/infortis/jquery/plugin...  malicious\n",
       "450173  http://faboleena.com/js/infortis/jquery/plugin...  malicious\n",
       "450174                             http://atualizapj.com/  malicious\n",
       "450175  http://writeassociate.com/test/Portal/inicio/I...  malicious\n",
       "\n",
       "[450176 rows x 2 columns]"
      ]
     },
     "execution_count": 3,
     "metadata": {},
     "output_type": "execute_result"
    }
   ],
   "source": [
    "df"
   ]
  },
  {
   "cell_type": "code",
   "execution_count": 5,
   "id": "b929e11f-8ea4-449c-ac32-7a2a43c02548",
   "metadata": {},
   "outputs": [],
   "source": [
    "df['label'] = df['label'].replace({'malicious': 1, 'benign': 0})"
   ]
  },
  {
   "cell_type": "code",
   "execution_count": 7,
   "id": "37b6cb57-68e6-4c08-886d-da5e617740cf",
   "metadata": {},
   "outputs": [
    {
     "data": {
      "text/html": [
       "<div>\n",
       "<style scoped>\n",
       "    .dataframe tbody tr th:only-of-type {\n",
       "        vertical-align: middle;\n",
       "    }\n",
       "\n",
       "    .dataframe tbody tr th {\n",
       "        vertical-align: top;\n",
       "    }\n",
       "\n",
       "    .dataframe thead th {\n",
       "        text-align: right;\n",
       "    }\n",
       "</style>\n",
       "<table border=\"1\" class=\"dataframe\">\n",
       "  <thead>\n",
       "    <tr style=\"text-align: right;\">\n",
       "      <th></th>\n",
       "      <th>url</th>\n",
       "      <th>label</th>\n",
       "    </tr>\n",
       "  </thead>\n",
       "  <tbody>\n",
       "    <tr>\n",
       "      <th>249838</th>\n",
       "      <td>https://www.montana-awwa.org/</td>\n",
       "      <td>0</td>\n",
       "    </tr>\n",
       "    <tr>\n",
       "      <th>231961</th>\n",
       "      <td>https://www.lessonplanspage.com/lamusicaddtone...</td>\n",
       "      <td>0</td>\n",
       "    </tr>\n",
       "    <tr>\n",
       "      <th>199775</th>\n",
       "      <td>https://www.forlocations.com/find-igasupermark...</td>\n",
       "      <td>0</td>\n",
       "    </tr>\n",
       "    <tr>\n",
       "      <th>38941</th>\n",
       "      <td>https://www.en.wikipedia.org/wiki/Ruta_Lee</td>\n",
       "      <td>0</td>\n",
       "    </tr>\n",
       "    <tr>\n",
       "      <th>112808</th>\n",
       "      <td>https://www.usfighter.tripod.com/dfc.htm</td>\n",
       "      <td>0</td>\n",
       "    </tr>\n",
       "    <tr>\n",
       "      <th>...</th>\n",
       "      <td>...</td>\n",
       "      <td>...</td>\n",
       "    </tr>\n",
       "    <tr>\n",
       "      <th>383784</th>\n",
       "      <td>http://campbelllairdstudio.com/elements</td>\n",
       "      <td>1</td>\n",
       "    </tr>\n",
       "    <tr>\n",
       "      <th>440716</th>\n",
       "      <td>http://housingfinancecommission.com/secured/mi...</td>\n",
       "      <td>1</td>\n",
       "    </tr>\n",
       "    <tr>\n",
       "      <th>415241</th>\n",
       "      <td>http://rokofloor.cz/xUj1d39Iaw/ihdGMB.php</td>\n",
       "      <td>1</td>\n",
       "    </tr>\n",
       "    <tr>\n",
       "      <th>433071</th>\n",
       "      <td>http://bagley-cpa.com/sa/Live/Live/index.php</td>\n",
       "      <td>1</td>\n",
       "    </tr>\n",
       "    <tr>\n",
       "      <th>410074</th>\n",
       "      <td>http://new.dns-syn.com/</td>\n",
       "      <td>1</td>\n",
       "    </tr>\n",
       "  </tbody>\n",
       "</table>\n",
       "<p>40000 rows × 2 columns</p>\n",
       "</div>"
      ],
      "text/plain": [
       "                                                      url  label\n",
       "249838                      https://www.montana-awwa.org/      0\n",
       "231961  https://www.lessonplanspage.com/lamusicaddtone...      0\n",
       "199775  https://www.forlocations.com/find-igasupermark...      0\n",
       "38941          https://www.en.wikipedia.org/wiki/Ruta_Lee      0\n",
       "112808           https://www.usfighter.tripod.com/dfc.htm      0\n",
       "...                                                   ...    ...\n",
       "383784            http://campbelllairdstudio.com/elements      1\n",
       "440716  http://housingfinancecommission.com/secured/mi...      1\n",
       "415241          http://rokofloor.cz/xUj1d39Iaw/ihdGMB.php      1\n",
       "433071       http://bagley-cpa.com/sa/Live/Live/index.php      1\n",
       "410074                            http://new.dns-syn.com/      1\n",
       "\n",
       "[40000 rows x 2 columns]"
      ]
     },
     "execution_count": 7,
     "metadata": {},
     "output_type": "execute_result"
    }
   ],
   "source": [
    "df = pd.concat([df[df.label==0].sample(20000), df[df.label==1].sample(20000)])\n",
    "df"
   ]
  },
  {
   "cell_type": "code",
   "execution_count": 8,
   "id": "fef45c21-bf99-444e-b193-c79c7ccb789c",
   "metadata": {},
   "outputs": [],
   "source": [
    "data_shuffled = df.sample(frac=1, random_state=42)"
   ]
  },
  {
   "cell_type": "code",
   "execution_count": 9,
   "id": "5b74c653-32a0-422c-9abd-9f62e6a2e089",
   "metadata": {},
   "outputs": [],
   "source": [
    "# Determine the number of rows for training and testing\n",
    "train_size = int(0.8 * len(df))\n",
    "test_size = len(df) - train_size"
   ]
  },
  {
   "cell_type": "code",
   "execution_count": 10,
   "id": "19774ae6-b5e3-4939-a340-9ec397bf685d",
   "metadata": {},
   "outputs": [],
   "source": [
    "# Split the dataset into training and testing sets\n",
    "train_set = data_shuffled[:train_size]\n",
    "test_set = data_shuffled[train_size:]"
   ]
  },
  {
   "cell_type": "code",
   "execution_count": 11,
   "id": "dd2d7323-60b9-423c-979d-529ca67dd70b",
   "metadata": {},
   "outputs": [],
   "source": [
    "# Write training and testing sets to CSV files\n",
    "train_set.to_csv('train_data.csv', index=False)\n",
    "test_set.to_csv('test_data.csv', index=False)"
   ]
  },
  {
   "cell_type": "code",
   "execution_count": null,
   "id": "d9240fcf-1663-49ee-8855-01ce1ab889cb",
   "metadata": {},
   "outputs": [],
   "source": []
  }
 ],
 "metadata": {
  "kernelspec": {
   "display_name": "Python 3 (ipykernel)",
   "language": "python",
   "name": "python3"
  },
  "language_info": {
   "codemirror_mode": {
    "name": "ipython",
    "version": 3
   },
   "file_extension": ".py",
   "mimetype": "text/x-python",
   "name": "python",
   "nbconvert_exporter": "python",
   "pygments_lexer": "ipython3",
   "version": "3.11.7"
  }
 },
 "nbformat": 4,
 "nbformat_minor": 5
}
