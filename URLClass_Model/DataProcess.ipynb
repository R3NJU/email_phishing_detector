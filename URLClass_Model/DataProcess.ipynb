{
 "cells": [
  {
   "cell_type": "code",
   "execution_count": 1,
   "id": "6d8606d4-85c9-4aa4-bfea-3b088f8f0988",
   "metadata": {},
   "outputs": [],
   "source": [
    "import pandas as pd"
   ]
  },
  {
   "cell_type": "code",
   "execution_count": 2,
   "id": "287ffdce-0e3d-4029-b115-41bc97fa1717",
   "metadata": {},
   "outputs": [],
   "source": [
    "df = pd.read_csv('urldata.csv', dtype=object)\n",
    "df = df.drop(['result', 'Unnamed: 0'], axis=1)"
   ]
  },
  {
   "cell_type": "code",
   "execution_count": 3,
   "id": "2ac10337-a595-450c-b890-85194542ea5d",
   "metadata": {},
   "outputs": [
    {
     "data": {
      "text/html": [
       "<div>\n",
       "<style scoped>\n",
       "    .dataframe tbody tr th:only-of-type {\n",
       "        vertical-align: middle;\n",
       "    }\n",
       "\n",
       "    .dataframe tbody tr th {\n",
       "        vertical-align: top;\n",
       "    }\n",
       "\n",
       "    .dataframe thead th {\n",
       "        text-align: right;\n",
       "    }\n",
       "</style>\n",
       "<table border=\"1\" class=\"dataframe\">\n",
       "  <thead>\n",
       "    <tr style=\"text-align: right;\">\n",
       "      <th></th>\n",
       "      <th>url</th>\n",
       "      <th>label</th>\n",
       "    </tr>\n",
       "  </thead>\n",
       "  <tbody>\n",
       "    <tr>\n",
       "      <th>0</th>\n",
       "      <td>https://www.google.com</td>\n",
       "      <td>benign</td>\n",
       "    </tr>\n",
       "    <tr>\n",
       "      <th>1</th>\n",
       "      <td>https://www.youtube.com</td>\n",
       "      <td>benign</td>\n",
       "    </tr>\n",
       "    <tr>\n",
       "      <th>2</th>\n",
       "      <td>https://www.facebook.com</td>\n",
       "      <td>benign</td>\n",
       "    </tr>\n",
       "    <tr>\n",
       "      <th>3</th>\n",
       "      <td>https://www.baidu.com</td>\n",
       "      <td>benign</td>\n",
       "    </tr>\n",
       "    <tr>\n",
       "      <th>4</th>\n",
       "      <td>https://www.wikipedia.org</td>\n",
       "      <td>benign</td>\n",
       "    </tr>\n",
       "    <tr>\n",
       "      <th>...</th>\n",
       "      <td>...</td>\n",
       "      <td>...</td>\n",
       "    </tr>\n",
       "    <tr>\n",
       "      <th>450171</th>\n",
       "      <td>http://ecct-it.com/docmmmnn/aptgd/index.php</td>\n",
       "      <td>malicious</td>\n",
       "    </tr>\n",
       "    <tr>\n",
       "      <th>450172</th>\n",
       "      <td>http://faboleena.com/js/infortis/jquery/plugin...</td>\n",
       "      <td>malicious</td>\n",
       "    </tr>\n",
       "    <tr>\n",
       "      <th>450173</th>\n",
       "      <td>http://faboleena.com/js/infortis/jquery/plugin...</td>\n",
       "      <td>malicious</td>\n",
       "    </tr>\n",
       "    <tr>\n",
       "      <th>450174</th>\n",
       "      <td>http://atualizapj.com/</td>\n",
       "      <td>malicious</td>\n",
       "    </tr>\n",
       "    <tr>\n",
       "      <th>450175</th>\n",
       "      <td>http://writeassociate.com/test/Portal/inicio/I...</td>\n",
       "      <td>malicious</td>\n",
       "    </tr>\n",
       "  </tbody>\n",
       "</table>\n",
       "<p>450176 rows × 2 columns</p>\n",
       "</div>"
      ],
      "text/plain": [
       "                                                      url      label\n",
       "0                                  https://www.google.com     benign\n",
       "1                                 https://www.youtube.com     benign\n",
       "2                                https://www.facebook.com     benign\n",
       "3                                   https://www.baidu.com     benign\n",
       "4                               https://www.wikipedia.org     benign\n",
       "...                                                   ...        ...\n",
       "450171        http://ecct-it.com/docmmmnn/aptgd/index.php  malicious\n",
       "450172  http://faboleena.com/js/infortis/jquery/plugin...  malicious\n",
       "450173  http://faboleena.com/js/infortis/jquery/plugin...  malicious\n",
       "450174                             http://atualizapj.com/  malicious\n",
       "450175  http://writeassociate.com/test/Portal/inicio/I...  malicious\n",
       "\n",
       "[450176 rows x 2 columns]"
      ]
     },
     "execution_count": 3,
     "metadata": {},
     "output_type": "execute_result"
    }
   ],
   "source": [
    "df"
   ]
  },
  {
   "cell_type": "code",
   "execution_count": 4,
   "id": "b929e11f-8ea4-449c-ac32-7a2a43c02548",
   "metadata": {},
   "outputs": [
    {
     "name": "stderr",
     "output_type": "stream",
     "text": [
      "/var/folders/sd/bc776y410030dfw62pp4g4_r0000gn/T/ipykernel_6265/3609359147.py:1: FutureWarning: Downcasting behavior in `replace` is deprecated and will be removed in a future version. To retain the old behavior, explicitly call `result.infer_objects(copy=False)`. To opt-in to the future behavior, set `pd.set_option('future.no_silent_downcasting', True)`\n",
      "  df['label'] = df['label'].replace({'malicious': 1, 'benign': 0})\n"
     ]
    }
   ],
   "source": [
    "df['label'] = df['label'].replace({'malicious': 1, 'benign': 0})"
   ]
  },
  {
   "cell_type": "code",
   "execution_count": 5,
   "id": "37b6cb57-68e6-4c08-886d-da5e617740cf",
   "metadata": {},
   "outputs": [
    {
     "data": {
      "text/html": [
       "<div>\n",
       "<style scoped>\n",
       "    .dataframe tbody tr th:only-of-type {\n",
       "        vertical-align: middle;\n",
       "    }\n",
       "\n",
       "    .dataframe tbody tr th {\n",
       "        vertical-align: top;\n",
       "    }\n",
       "\n",
       "    .dataframe thead th {\n",
       "        text-align: right;\n",
       "    }\n",
       "</style>\n",
       "<table border=\"1\" class=\"dataframe\">\n",
       "  <thead>\n",
       "    <tr style=\"text-align: right;\">\n",
       "      <th></th>\n",
       "      <th>url</th>\n",
       "      <th>label</th>\n",
       "    </tr>\n",
       "  </thead>\n",
       "  <tbody>\n",
       "    <tr>\n",
       "      <th>137815</th>\n",
       "      <td>https://www.ancientfaces.com/research/story/40...</td>\n",
       "      <td>0</td>\n",
       "    </tr>\n",
       "    <tr>\n",
       "      <th>269880</th>\n",
       "      <td>https://www.ovguide.com/jeanne-eagels-9202a8c0...</td>\n",
       "      <td>0</td>\n",
       "    </tr>\n",
       "    <tr>\n",
       "      <th>160786</th>\n",
       "      <td>https://www.census-online.us/view/TRAN/</td>\n",
       "      <td>0</td>\n",
       "    </tr>\n",
       "    <tr>\n",
       "      <th>324503</th>\n",
       "      <td>https://www.wordiq.com/definition/List_of_Onta...</td>\n",
       "      <td>0</td>\n",
       "    </tr>\n",
       "    <tr>\n",
       "      <th>99544</th>\n",
       "      <td>https://www.soundcloud.com/cburford2/heaven-co...</td>\n",
       "      <td>0</td>\n",
       "    </tr>\n",
       "    <tr>\n",
       "      <th>...</th>\n",
       "      <td>...</td>\n",
       "      <td>...</td>\n",
       "    </tr>\n",
       "    <tr>\n",
       "      <th>418012</th>\n",
       "      <td>http://bdmedlmolffobcan.de /</td>\n",
       "      <td>1</td>\n",
       "    </tr>\n",
       "    <tr>\n",
       "      <th>399347</th>\n",
       "      <td>http://ccgrabber</td>\n",
       "      <td>1</td>\n",
       "    </tr>\n",
       "    <tr>\n",
       "      <th>418199</th>\n",
       "      <td>http://bdaffkbdlaeemdbm.com /</td>\n",
       "      <td>1</td>\n",
       "    </tr>\n",
       "    <tr>\n",
       "      <th>435944</th>\n",
       "      <td>http://jungbrasilia.com.br/Membership/Finance/...</td>\n",
       "      <td>1</td>\n",
       "    </tr>\n",
       "    <tr>\n",
       "      <th>421019</th>\n",
       "      <td>http://cr43245.tmweb.ru/system/logs/Validation...</td>\n",
       "      <td>1</td>\n",
       "    </tr>\n",
       "  </tbody>\n",
       "</table>\n",
       "<p>15000 rows × 2 columns</p>\n",
       "</div>"
      ],
      "text/plain": [
       "                                                      url  label\n",
       "137815  https://www.ancientfaces.com/research/story/40...      0\n",
       "269880  https://www.ovguide.com/jeanne-eagels-9202a8c0...      0\n",
       "160786            https://www.census-online.us/view/TRAN/      0\n",
       "324503  https://www.wordiq.com/definition/List_of_Onta...      0\n",
       "99544   https://www.soundcloud.com/cburford2/heaven-co...      0\n",
       "...                                                   ...    ...\n",
       "418012                       http://bdmedlmolffobcan.de /      1\n",
       "399347                                   http://ccgrabber      1\n",
       "418199                      http://bdaffkbdlaeemdbm.com /      1\n",
       "435944  http://jungbrasilia.com.br/Membership/Finance/...      1\n",
       "421019  http://cr43245.tmweb.ru/system/logs/Validation...      1\n",
       "\n",
       "[15000 rows x 2 columns]"
      ]
     },
     "execution_count": 5,
     "metadata": {},
     "output_type": "execute_result"
    }
   ],
   "source": [
    "df3 = pd.concat([df[df.label==0].sample(10000), df[df.label==1].sample(5000)])\n",
    "df3"
   ]
  },
  {
   "cell_type": "code",
   "execution_count": 6,
   "id": "18b0843a-aedc-42e3-8987-4f2691db943c",
   "metadata": {},
   "outputs": [],
   "source": [
    "df3.to_csv('test_data.csv', index=False)"
   ]
  },
  {
   "cell_type": "code",
   "execution_count": null,
   "id": "670d674b-de92-4c43-8d2d-a2ad6a7d361d",
   "metadata": {},
   "outputs": [],
   "source": []
  }
 ],
 "metadata": {
  "kernelspec": {
   "display_name": "Python 3 (ipykernel)",
   "language": "python",
   "name": "python3"
  },
  "language_info": {
   "codemirror_mode": {
    "name": "ipython",
    "version": 3
   },
   "file_extension": ".py",
   "mimetype": "text/x-python",
   "name": "python",
   "nbconvert_exporter": "python",
   "pygments_lexer": "ipython3",
   "version": "3.11.7"
  }
 },
 "nbformat": 4,
 "nbformat_minor": 5
}
