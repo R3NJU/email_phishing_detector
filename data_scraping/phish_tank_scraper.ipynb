{
  "cells": [
    {
      "cell_type": "code",
      "execution_count": null,
      "id": "03c737c6-a53a-479f-a287-3bcbc6cebaa5",
      "metadata": {
        "id": "03c737c6-a53a-479f-a287-3bcbc6cebaa5"
      },
      "outputs": [],
      "source": [
        "import pandas as pd\n",
        "from lxml import html\n",
        "import csv\n",
        "import aiohttp\n",
        "import asyncio"
      ]
    },
    {
      "cell_type": "code",
      "source": [
        "num_pages = 184412\n",
        "contents = []\n",
        "async def main():\n",
        "    async with aiohttp.ClientSession() as session:\n",
        "        count = 1\n",
        "        for i in range(1, num_pages):\n",
        "          async with session.get(f\"https://phishtank.org/phish_search.php?page={i}&valid=y&Search=Search\") as resp:\n",
        "            response = await resp.text()\n",
        "            print(f\"{i} : {resp.status}\")\n",
        "            if resp.status == 200:\n",
        "              contents.append(response)\n",
        "await main()"
      ],
      "metadata": {
        "id": "W28ElFdlt8aG"
      },
      "id": "W28ElFdlt8aG",
      "execution_count": null,
      "outputs": []
    },
    {
      "cell_type": "code",
      "execution_count": null,
      "id": "b56e679f-b0d9-4899-8756-fd7e2aabb70b",
      "metadata": {
        "id": "b56e679f-b0d9-4899-8756-fd7e2aabb70b"
      },
      "outputs": [],
      "source": [
        "phish_data = []\n",
        "def extract_data(row):\n",
        "    phish_dict = {}\n",
        "    phish_dict[\"phish_id\"] = row.xpath('td')[0].xpath('a/text()')[0]\n",
        "    phish_dict[\"phish_url\"] = row.xpath('td')[1].xpath('text()')[0]\n",
        "    phish_dict[\"date_added\"] = row.xpath('td')[1].xpath('span/text()')[0]\n",
        "    phish_dict[\"added_by\"] = row.xpath('td')[2].xpath('a/text()')[0]\n",
        "    phish_dict['active'] = row.xpath('td')[4].xpath('.//text()')[0]\n",
        "    phish_data.append(phish_dict)"
      ]
    },
    {
      "cell_type": "code",
      "execution_count": null,
      "id": "55fe5fa7-62d6-4a89-bfd5-f7d5107055dd",
      "metadata": {
        "id": "55fe5fa7-62d6-4a89-bfd5-f7d5107055dd"
      },
      "outputs": [],
      "source": [
        "for i in contents:\n",
        "    tree = html.fromstring(i)\n",
        "    rows = tree.xpath('//tr[@style=\"background: #ffffcc;\"]')\n",
        "    for j in rows:\n",
        "        extract_data(j)"
      ]
    },
    {
      "cell_type": "code",
      "execution_count": null,
      "id": "ad05fa62-a89c-4477-b5e5-c96b61b73562",
      "metadata": {
        "id": "ad05fa62-a89c-4477-b5e5-c96b61b73562"
      },
      "outputs": [],
      "source": [
        "df = pd.DataFrame(phish_data)\n",
        "df.to_csv('PhishTank_Data2.csv', index=False, quoting=csv.QUOTE_ALL, encoding='utf-8')"
      ]
    }
  ],
  "metadata": {
    "kernelspec": {
      "display_name": "Python 3 (ipykernel)",
      "language": "python",
      "name": "python3"
    },
    "language_info": {
      "codemirror_mode": {
        "name": "ipython",
        "version": 3
      },
      "file_extension": ".py",
      "mimetype": "text/x-python",
      "name": "python",
      "nbconvert_exporter": "python",
      "pygments_lexer": "ipython3",
      "version": "3.12.0"
    },
    "colab": {
      "provenance": []
    }
  },
  "nbformat": 4,
  "nbformat_minor": 5
}