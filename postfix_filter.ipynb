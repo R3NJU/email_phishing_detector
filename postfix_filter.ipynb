{
 "cells": [
  {
   "cell_type": "code",
   "execution_count": 3,
   "id": "fd60bede-cb76-4faa-8391-c231530337ce",
   "metadata": {},
   "outputs": [],
   "source": [
    "import smtpd\n",
    "import asyncore\n",
    "import smtplib\n",
    "import traceback\n",
    "import re"
   ]
  },
  {
   "cell_type": "code",
   "execution_count": 4,
   "id": "e0a0df3a-4599-4e47-a594-fa87c466fc0c",
   "metadata": {},
   "outputs": [],
   "source": [
    "class CustomSMTPServer(smtpd.SMTPServer):\n",
    "    def process_message(self, peer, mailfrom, rcpttos, data, mail_options=None, rcpt_options=None):\n",
    "        mailfrom.replace(\"\\'\", '')\n",
    "        mailfrom.replace('\\\"', '')\n",
    "        for recipient in rcpttos:\n",
    "            recipient.replace(\"\\'\", '')\n",
    "            recipient.replace('\\\"', '')\n",
    "        try:\n",
    "            s_data = data.decode('utf-8')\n",
    "            if re.search('http[\\S]+\\.[a-zA-Z]{2,7}', s_data):\n",
    "                s_data = s_data.replace('>\\n\\n', '>\\n\\n[!!!! This Email Contains External URLs !!!!]\\n\\n')\n",
    "            data = str.encode(s_data)\n",
    "        except:\n",
    "            pass\n",
    "            print('Something went wrong')\n",
    "            print(traceback.format_exc())\n",
    "        try:\n",
    "            server = smtplib.SMTP('localhost', 10026)\n",
    "            server.sendmail(mailfrom, rcpttos, data)\n",
    "            server.quit()\n",
    "            print('Send Successful')\n",
    "        except Exception as e:\n",
    "            print(e)\n",
    "        return"
   ]
  },
  {
   "cell_type": "code",
   "execution_count": 5,
   "id": "4d9895be-6eab-4469-8726-cbf1fe9a5537",
   "metadata": {},
   "outputs": [
    {
     "name": "stdout",
     "output_type": "stream",
     "text": [
      "Send Successful\n"
     ]
    },
    {
     "ename": "KeyboardInterrupt",
     "evalue": "",
     "output_type": "error",
     "traceback": [
      "\u001b[0;31m---------------------------------------------------------------------------\u001b[0m",
      "\u001b[0;31mKeyboardInterrupt\u001b[0m                         Traceback (most recent call last)",
      "Cell \u001b[0;32mIn[5], line 2\u001b[0m\n\u001b[1;32m      1\u001b[0m server \u001b[38;5;241m=\u001b[39m CustomSMTPServer((\u001b[38;5;124m'\u001b[39m\u001b[38;5;124m127.0.0.1\u001b[39m\u001b[38;5;124m'\u001b[39m, \u001b[38;5;241m10025\u001b[39m), \u001b[38;5;28;01mNone\u001b[39;00m)\n\u001b[0;32m----> 2\u001b[0m \u001b[43masyncore\u001b[49m\u001b[38;5;241;43m.\u001b[39;49m\u001b[43mloop\u001b[49m\u001b[43m(\u001b[49m\u001b[43m)\u001b[49m\n",
      "File \u001b[0;32m/usr/lib/python3.10/asyncore.py:210\u001b[0m, in \u001b[0;36mloop\u001b[0;34m(timeout, use_poll, map, count)\u001b[0m\n\u001b[1;32m    208\u001b[0m \u001b[38;5;28;01mif\u001b[39;00m count \u001b[38;5;129;01mis\u001b[39;00m \u001b[38;5;28;01mNone\u001b[39;00m:\n\u001b[1;32m    209\u001b[0m     \u001b[38;5;28;01mwhile\u001b[39;00m \u001b[38;5;28mmap\u001b[39m:\n\u001b[0;32m--> 210\u001b[0m         \u001b[43mpoll_fun\u001b[49m\u001b[43m(\u001b[49m\u001b[43mtimeout\u001b[49m\u001b[43m,\u001b[49m\u001b[43m \u001b[49m\u001b[38;5;28;43mmap\u001b[39;49m\u001b[43m)\u001b[49m\n\u001b[1;32m    212\u001b[0m \u001b[38;5;28;01melse\u001b[39;00m:\n\u001b[1;32m    213\u001b[0m     \u001b[38;5;28;01mwhile\u001b[39;00m \u001b[38;5;28mmap\u001b[39m \u001b[38;5;129;01mand\u001b[39;00m count \u001b[38;5;241m>\u001b[39m \u001b[38;5;241m0\u001b[39m:\n",
      "File \u001b[0;32m/usr/lib/python3.10/asyncore.py:151\u001b[0m, in \u001b[0;36mpoll\u001b[0;34m(timeout, map)\u001b[0m\n\u001b[1;32m    148\u001b[0m     time\u001b[38;5;241m.\u001b[39msleep(timeout)\n\u001b[1;32m    149\u001b[0m     \u001b[38;5;28;01mreturn\u001b[39;00m\n\u001b[0;32m--> 151\u001b[0m r, w, e \u001b[38;5;241m=\u001b[39m \u001b[43mselect\u001b[49m\u001b[38;5;241;43m.\u001b[39;49m\u001b[43mselect\u001b[49m\u001b[43m(\u001b[49m\u001b[43mr\u001b[49m\u001b[43m,\u001b[49m\u001b[43m \u001b[49m\u001b[43mw\u001b[49m\u001b[43m,\u001b[49m\u001b[43m \u001b[49m\u001b[43me\u001b[49m\u001b[43m,\u001b[49m\u001b[43m \u001b[49m\u001b[43mtimeout\u001b[49m\u001b[43m)\u001b[49m\n\u001b[1;32m    153\u001b[0m \u001b[38;5;28;01mfor\u001b[39;00m fd \u001b[38;5;129;01min\u001b[39;00m r:\n\u001b[1;32m    154\u001b[0m     obj \u001b[38;5;241m=\u001b[39m \u001b[38;5;28mmap\u001b[39m\u001b[38;5;241m.\u001b[39mget(fd)\n",
      "\u001b[0;31mKeyboardInterrupt\u001b[0m: "
     ]
    }
   ],
   "source": [
    "server = CustomSMTPServer(('127.0.0.1', 10025), None)\n",
    "asyncore.loop()"
   ]
  },
  {
   "cell_type": "code",
   "execution_count": null,
   "id": "74326abb-b28f-4423-9d9e-21a40232ce7c",
   "metadata": {},
   "outputs": [],
   "source": []
  },
  {
   "cell_type": "code",
   "execution_count": null,
   "id": "18a7096f-9510-4ce0-8eb8-22aec54431b4",
   "metadata": {},
   "outputs": [],
   "source": []
  },
  {
   "cell_type": "code",
   "execution_count": null,
   "id": "43bbf8c8-f473-427f-acef-d6bf3c54b9c0",
   "metadata": {},
   "outputs": [],
   "source": []
  },
  {
   "cell_type": "code",
   "execution_count": null,
   "id": "4a397201-958c-49e7-9ec6-2650738f7cfc",
   "metadata": {},
   "outputs": [],
   "source": []
  }
 ],
 "metadata": {
  "kernelspec": {
   "display_name": "Python 3 (ipykernel)",
   "language": "python",
   "name": "python3"
  },
  "language_info": {
   "codemirror_mode": {
    "name": "ipython",
    "version": 3
   },
   "file_extension": ".py",
   "mimetype": "text/x-python",
   "name": "python",
   "nbconvert_exporter": "python",
   "pygments_lexer": "ipython3",
   "version": "3.10.12"
  }
 },
 "nbformat": 4,
 "nbformat_minor": 5
}
